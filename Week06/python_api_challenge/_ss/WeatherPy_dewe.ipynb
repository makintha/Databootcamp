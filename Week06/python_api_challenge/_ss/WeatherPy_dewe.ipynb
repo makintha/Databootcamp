{
 "metadata": {
  "language_info": {
   "codemirror_mode": {
    "name": "ipython",
    "version": 3
   },
   "file_extension": ".py",
   "mimetype": "text/x-python",
   "name": "python",
   "nbconvert_exporter": "python",
   "pygments_lexer": "ipython3",
   "version": "3.8.3-final"
  },
  "orig_nbformat": 2,
  "kernelspec": {
   "name": "python383jvsc74a57bd051d3291f5ceb888cf1faadfa41614c22458ba4c049584f6a0b84510c56f587e2",
   "display_name": "Python 3.8.3 64-bit (conda)"
  }
 },
 "nbformat": 4,
 "nbformat_minor": 2,
 "cells": [
  {
   "source": [
    "# Import Module\n",
    "from citipy import citipy\n",
    "import pandas as pd\n",
    "import numpy as np\n",
    "import json \n",
    "import requests\n",
    "import matplotlib.pyplot as plt"
   ],
   "cell_type": "code",
   "metadata": {},
   "execution_count": 38,
   "outputs": []
  },
  {
   "source": [
    "# Background\n",
    "---"
   ],
   "cell_type": "markdown",
   "metadata": {}
  },
  {
   "source": [
    "# Generate latitudes(-90 to 90) and longitudes(-180 to 180) using random number generator and multiply by 100\n",
    "Southern_cities_df=pd.DataFrame({\"lng\":(np.random.uniform(-180,180,1000)), \"lat\":(np.random.uniform(-90,0,1000))})\n",
    "\n",
    "Southern_cities_df"
   ],
   "cell_type": "code",
   "metadata": {},
   "execution_count": 57,
   "outputs": [
    {
     "output_type": "execute_result",
     "data": {
      "text/plain": [
       "            lng        lat\n",
       "0     39.826073 -59.436657\n",
       "1    -32.090420 -77.730903\n",
       "2   -101.549044 -27.673148\n",
       "3    161.931866 -52.177884\n",
       "4    -81.230282 -67.391924\n",
       "..          ...        ...\n",
       "995   10.648983 -39.977497\n",
       "996   -5.166211 -21.239883\n",
       "997  -53.156869 -56.067166\n",
       "998  137.261182 -81.905413\n",
       "999  -33.778335 -65.156555\n",
       "\n",
       "[1000 rows x 2 columns]"
      ],
      "text/html": "<div>\n<style scoped>\n    .dataframe tbody tr th:only-of-type {\n        vertical-align: middle;\n    }\n\n    .dataframe tbody tr th {\n        vertical-align: top;\n    }\n\n    .dataframe thead th {\n        text-align: right;\n    }\n</style>\n<table border=\"1\" class=\"dataframe\">\n  <thead>\n    <tr style=\"text-align: right;\">\n      <th></th>\n      <th>lng</th>\n      <th>lat</th>\n    </tr>\n  </thead>\n  <tbody>\n    <tr>\n      <th>0</th>\n      <td>39.826073</td>\n      <td>-59.436657</td>\n    </tr>\n    <tr>\n      <th>1</th>\n      <td>-32.090420</td>\n      <td>-77.730903</td>\n    </tr>\n    <tr>\n      <th>2</th>\n      <td>-101.549044</td>\n      <td>-27.673148</td>\n    </tr>\n    <tr>\n      <th>3</th>\n      <td>161.931866</td>\n      <td>-52.177884</td>\n    </tr>\n    <tr>\n      <th>4</th>\n      <td>-81.230282</td>\n      <td>-67.391924</td>\n    </tr>\n    <tr>\n      <th>...</th>\n      <td>...</td>\n      <td>...</td>\n    </tr>\n    <tr>\n      <th>995</th>\n      <td>10.648983</td>\n      <td>-39.977497</td>\n    </tr>\n    <tr>\n      <th>996</th>\n      <td>-5.166211</td>\n      <td>-21.239883</td>\n    </tr>\n    <tr>\n      <th>997</th>\n      <td>-53.156869</td>\n      <td>-56.067166</td>\n    </tr>\n    <tr>\n      <th>998</th>\n      <td>137.261182</td>\n      <td>-81.905413</td>\n    </tr>\n    <tr>\n      <th>999</th>\n      <td>-33.778335</td>\n      <td>-65.156555</td>\n    </tr>\n  </tbody>\n</table>\n<p>1000 rows × 2 columns</p>\n</div>"
     },
     "metadata": {},
     "execution_count": 57
    }
   ]
  },
  {
   "cell_type": "code",
   "execution_count": 60,
   "metadata": {},
   "outputs": [
    {
     "output_type": "execute_result",
     "data": {
      "text/plain": [
       "             lng  lat\n",
       "City                 \n",
       "abdulino       1    1\n",
       "abnub          1    1\n",
       "agbor          2    2\n",
       "agirish        2    2\n",
       "aksarka        3    3\n",
       "...          ...  ...\n",
       "yar-sale       8    8\n",
       "yashkul        2    2\n",
       "yenotayevka    4    4\n",
       "zachagansk     6    6\n",
       "zenzeli        2    2\n",
       "\n",
       "[106 rows x 2 columns]"
      ],
      "text/html": "<div>\n<style scoped>\n    .dataframe tbody tr th:only-of-type {\n        vertical-align: middle;\n    }\n\n    .dataframe tbody tr th {\n        vertical-align: top;\n    }\n\n    .dataframe thead th {\n        text-align: right;\n    }\n</style>\n<table border=\"1\" class=\"dataframe\">\n  <thead>\n    <tr style=\"text-align: right;\">\n      <th></th>\n      <th>lng</th>\n      <th>lat</th>\n    </tr>\n    <tr>\n      <th>City</th>\n      <th></th>\n      <th></th>\n    </tr>\n  </thead>\n  <tbody>\n    <tr>\n      <th>abdulino</th>\n      <td>1</td>\n      <td>1</td>\n    </tr>\n    <tr>\n      <th>abnub</th>\n      <td>1</td>\n      <td>1</td>\n    </tr>\n    <tr>\n      <th>agbor</th>\n      <td>2</td>\n      <td>2</td>\n    </tr>\n    <tr>\n      <th>agirish</th>\n      <td>2</td>\n      <td>2</td>\n    </tr>\n    <tr>\n      <th>aksarka</th>\n      <td>3</td>\n      <td>3</td>\n    </tr>\n    <tr>\n      <th>...</th>\n      <td>...</td>\n      <td>...</td>\n    </tr>\n    <tr>\n      <th>yar-sale</th>\n      <td>8</td>\n      <td>8</td>\n    </tr>\n    <tr>\n      <th>yashkul</th>\n      <td>2</td>\n      <td>2</td>\n    </tr>\n    <tr>\n      <th>yenotayevka</th>\n      <td>4</td>\n      <td>4</td>\n    </tr>\n    <tr>\n      <th>zachagansk</th>\n      <td>6</td>\n      <td>6</td>\n    </tr>\n    <tr>\n      <th>zenzeli</th>\n      <td>2</td>\n      <td>2</td>\n    </tr>\n  </tbody>\n</table>\n<p>106 rows × 2 columns</p>\n</div>"
     },
     "metadata": {},
     "execution_count": 60
    }
   ],
   "source": [
    "cities = []\n",
    "for i in range(len(Southern_cities_df)):\n",
    "    city = (citipy.nearest_city(Southern_cities_df['lng'][i], Southern_cities_df['lng'][i]))\n",
    "    cities.append(city.city_name)\n",
    "\n",
    "Southern_cities_df['City'] = cities\n",
    "Southern_cities_df.head(60)\n",
    "Southern_cities_df.groupby('City').count()"
   ]
  },
  {
   "cell_type": "code",
   "execution_count": 36,
   "metadata": {},
   "outputs": [
    {
     "output_type": "stream",
     "text": [
      "\u001b[1;31mType:\u001b[0m        module\n",
      "\u001b[1;31mString form:\u001b[0m <module 'numpy.random' from 'C:\\\\Users\\\\ahmadmakintha\\\\Anaconda3\\\\lib\\\\site-packages\\\\numpy\\\\random\\\\__init__.py'>\n",
      "\u001b[1;31mFile:\u001b[0m        c:\\users\\ahmadmakintha\\anaconda3\\lib\\site-packages\\numpy\\random\\__init__.py\n",
      "\u001b[1;31mDocstring:\u001b[0m  \n",
      "========================\n",
      "Random Number Generation\n",
      "========================\n",
      "\n",
      "Use ``default_rng()`` to create a `Generator` and call its methods.\n",
      "\n",
      "=============== =========================================================\n",
      "Generator\n",
      "--------------- ---------------------------------------------------------\n",
      "Generator       Class implementing all of the random number distributions\n",
      "default_rng     Default constructor for ``Generator``\n",
      "=============== =========================================================\n",
      "\n",
      "============================================= ===\n",
      "BitGenerator Streams that work with Generator\n",
      "--------------------------------------------- ---\n",
      "MT19937\n",
      "PCG64\n",
      "Philox\n",
      "SFC64\n",
      "============================================= ===\n",
      "\n",
      "============================================= ===\n",
      "Getting entropy to initialize a BitGenerator\n",
      "--------------------------------------------- ---\n",
      "SeedSequence\n",
      "============================================= ===\n",
      "\n",
      "\n",
      "Legacy\n",
      "------\n",
      "\n",
      "For backwards compatibility with previous versions of numpy before 1.17, the\n",
      "various aliases to the global `RandomState` methods are left alone and do not\n",
      "use the new `Generator` API.\n",
      "\n",
      "==================== =========================================================\n",
      "Utility functions\n",
      "-------------------- ---------------------------------------------------------\n",
      "random               Uniformly distributed floats over ``[0, 1)``\n",
      "bytes                Uniformly distributed random bytes.\n",
      "permutation          Randomly permute a sequence / generate a random sequence.\n",
      "shuffle              Randomly permute a sequence in place.\n",
      "choice               Random sample from 1-D array.\n",
      "==================== =========================================================\n",
      "\n",
      "==================== =========================================================\n",
      "Compatibility\n",
      "functions - removed\n",
      "in the new API\n",
      "-------------------- ---------------------------------------------------------\n",
      "rand                 Uniformly distributed values.\n",
      "randn                Normally distributed values.\n",
      "ranf                 Uniformly distributed floating point numbers.\n",
      "random_integers      Uniformly distributed integers in a given range.\n",
      "                     (deprecated, use ``integers(..., closed=True)`` instead)\n",
      "random_sample        Alias for `random_sample`\n",
      "randint              Uniformly distributed integers in a given range\n",
      "seed                 Seed the legacy random number generator.\n",
      "==================== =========================================================\n",
      "\n",
      "==================== =========================================================\n",
      "Univariate\n",
      "distributions\n",
      "-------------------- ---------------------------------------------------------\n",
      "beta                 Beta distribution over ``[0, 1]``.\n",
      "binomial             Binomial distribution.\n",
      "chisquare            :math:`\\chi^2` distribution.\n",
      "exponential          Exponential distribution.\n",
      "f                    F (Fisher-Snedecor) distribution.\n",
      "gamma                Gamma distribution.\n",
      "geometric            Geometric distribution.\n",
      "gumbel               Gumbel distribution.\n",
      "hypergeometric       Hypergeometric distribution.\n",
      "laplace              Laplace distribution.\n",
      "logistic             Logistic distribution.\n",
      "lognormal            Log-normal distribution.\n",
      "logseries            Logarithmic series distribution.\n",
      "negative_binomial    Negative binomial distribution.\n",
      "noncentral_chisquare Non-central chi-square distribution.\n",
      "noncentral_f         Non-central F distribution.\n",
      "normal               Normal / Gaussian distribution.\n",
      "pareto               Pareto distribution.\n",
      "poisson              Poisson distribution.\n",
      "power                Power distribution.\n",
      "rayleigh             Rayleigh distribution.\n",
      "triangular           Triangular distribution.\n",
      "uniform              Uniform distribution.\n",
      "vonmises             Von Mises circular distribution.\n",
      "wald                 Wald (inverse Gaussian) distribution.\n",
      "weibull              Weibull distribution.\n",
      "zipf                 Zipf's distribution over ranked data.\n",
      "==================== =========================================================\n",
      "\n",
      "==================== ==========================================================\n",
      "Multivariate\n",
      "distributions\n",
      "-------------------- ----------------------------------------------------------\n",
      "dirichlet            Multivariate generalization of Beta distribution.\n",
      "multinomial          Multivariate generalization of the binomial distribution.\n",
      "multivariate_normal  Multivariate generalization of the normal distribution.\n",
      "==================== ==========================================================\n",
      "\n",
      "==================== =========================================================\n",
      "Standard\n",
      "distributions\n",
      "-------------------- ---------------------------------------------------------\n",
      "standard_cauchy      Standard Cauchy-Lorentz distribution.\n",
      "standard_exponential Standard exponential distribution.\n",
      "standard_gamma       Standard Gamma distribution.\n",
      "standard_normal      Standard normal distribution.\n",
      "standard_t           Standard Student's t-distribution.\n",
      "==================== =========================================================\n",
      "\n",
      "==================== =========================================================\n",
      "Internal functions\n",
      "-------------------- ---------------------------------------------------------\n",
      "get_state            Get tuple representing internal state of generator.\n",
      "set_state            Set state of generator.\n",
      "==================== =========================================================\n"
     ],
     "name": "stdout"
    }
   ],
   "source": [
    "?np.random"
   ]
  },
  {
   "cell_type": "code",
   "execution_count": null,
   "metadata": {},
   "outputs": [],
   "source": []
  }
 ]
}