{
 "cells": [
  {
   "cell_type": "markdown",
   "metadata": {},
   "source": [
    "### Note\n",
    "* Instructions have been included for each segment. You do not have to follow them exactly, but they are included to help you think through the steps."
   ]
  },
  {
   "cell_type": "code",
   "execution_count": 2,
   "metadata": {},
   "outputs": [
    {
     "output_type": "execute_result",
     "data": {
      "text/plain": [
       "   Purchase ID             SN  Age Gender  Item ID  \\\n",
       "0            0        Lisim78   20   Male      108   \n",
       "1            1    Lisovynya38   40   Male      143   \n",
       "2            2     Ithergue48   24   Male       92   \n",
       "3            3  Chamassasya86   24   Male      100   \n",
       "4            4      Iskosia90   23   Male      131   \n",
       "\n",
       "                                   Item Name  Price  \n",
       "0  Extraction, Quickblade Of Trembling Hands   3.53  \n",
       "1                          Frenzied Scimitar   1.56  \n",
       "2                               Final Critic   4.88  \n",
       "3                                Blindscythe   3.27  \n",
       "4                                       Fury   1.44  "
      ],
      "text/html": "<div>\n<style scoped>\n    .dataframe tbody tr th:only-of-type {\n        vertical-align: middle;\n    }\n\n    .dataframe tbody tr th {\n        vertical-align: top;\n    }\n\n    .dataframe thead th {\n        text-align: right;\n    }\n</style>\n<table border=\"1\" class=\"dataframe\">\n  <thead>\n    <tr style=\"text-align: right;\">\n      <th></th>\n      <th>Purchase ID</th>\n      <th>SN</th>\n      <th>Age</th>\n      <th>Gender</th>\n      <th>Item ID</th>\n      <th>Item Name</th>\n      <th>Price</th>\n    </tr>\n  </thead>\n  <tbody>\n    <tr>\n      <th>0</th>\n      <td>0</td>\n      <td>Lisim78</td>\n      <td>20</td>\n      <td>Male</td>\n      <td>108</td>\n      <td>Extraction, Quickblade Of Trembling Hands</td>\n      <td>3.53</td>\n    </tr>\n    <tr>\n      <th>1</th>\n      <td>1</td>\n      <td>Lisovynya38</td>\n      <td>40</td>\n      <td>Male</td>\n      <td>143</td>\n      <td>Frenzied Scimitar</td>\n      <td>1.56</td>\n    </tr>\n    <tr>\n      <th>2</th>\n      <td>2</td>\n      <td>Ithergue48</td>\n      <td>24</td>\n      <td>Male</td>\n      <td>92</td>\n      <td>Final Critic</td>\n      <td>4.88</td>\n    </tr>\n    <tr>\n      <th>3</th>\n      <td>3</td>\n      <td>Chamassasya86</td>\n      <td>24</td>\n      <td>Male</td>\n      <td>100</td>\n      <td>Blindscythe</td>\n      <td>3.27</td>\n    </tr>\n    <tr>\n      <th>4</th>\n      <td>4</td>\n      <td>Iskosia90</td>\n      <td>23</td>\n      <td>Male</td>\n      <td>131</td>\n      <td>Fury</td>\n      <td>1.44</td>\n    </tr>\n  </tbody>\n</table>\n</div>"
     },
     "metadata": {},
     "execution_count": 2
    }
   ],
   "source": [
    "# Dependencies and Setup\n",
    "import pandas as pd\n",
    "\n",
    "# File to Load (Remember to Change These)\n",
    "file_to_load = \"Resources/purchase_data.csv\"\n",
    "\n",
    "# Read Purchasing File and store into Pandas data frame\n",
    "purchase_data = pd.read_csv(file_to_load)\n",
    "purchase_data.head()"
   ]
  },
  {
   "cell_type": "markdown",
   "metadata": {},
   "source": [
    "## Player Count"
   ]
  },
  {
   "cell_type": "markdown",
   "metadata": {},
   "source": [
    "* Display the total number of players\n"
   ]
  },
  {
   "cell_type": "code",
   "execution_count": 3,
   "metadata": {},
   "outputs": [
    {
     "output_type": "execute_result",
     "data": {
      "text/plain": [
       "   Total Players\n",
       "0            576"
      ],
      "text/html": "<div>\n<style scoped>\n    .dataframe tbody tr th:only-of-type {\n        vertical-align: middle;\n    }\n\n    .dataframe tbody tr th {\n        vertical-align: top;\n    }\n\n    .dataframe thead th {\n        text-align: right;\n    }\n</style>\n<table border=\"1\" class=\"dataframe\">\n  <thead>\n    <tr style=\"text-align: right;\">\n      <th></th>\n      <th>Total Players</th>\n    </tr>\n  </thead>\n  <tbody>\n    <tr>\n      <th>0</th>\n      <td>576</td>\n    </tr>\n  </tbody>\n</table>\n</div>"
     },
     "metadata": {},
     "execution_count": 3
    }
   ],
   "source": [
    "total_pl = len(purchase_data.groupby(['SN']).count())\n",
    "total_pl_df = pd.DataFrame({'Total Players' : [total_pl]})\n",
    "total_pl_df"
   ]
  },
  {
   "cell_type": "markdown",
   "metadata": {},
   "source": [
    "## Purchasing Analysis (Total)"
   ]
  },
  {
   "cell_type": "markdown",
   "metadata": {},
   "source": [
    "* Run basic calculations to obtain number of unique items, average price, etc.\n",
    "\n",
    "\n",
    "* Create a summary data frame to hold the results\n",
    "\n",
    "\n",
    "* Optional: give the displayed data cleaner formatting\n",
    "\n",
    "\n",
    "* Display the summary data frame\n"
   ]
  },
  {
   "cell_type": "code",
   "execution_count": 4,
   "metadata": {},
   "outputs": [
    {
     "output_type": "execute_result",
     "data": {
      "text/plain": [
       "<pandas.io.formats.style.Styler at 0x177265ebf40>"
      ],
      "text/html": "<style  type=\"text/css\" >\n</style><table id=\"T_78746aaa_9687_11eb_bfe3_a87eea5d3828\" ><thead>    <tr>        <th class=\"blank level0\" ></th>        <th class=\"col_heading level0 col0\" >Number of Unique Items</th>        <th class=\"col_heading level0 col1\" >Average Price</th>        <th class=\"col_heading level0 col2\" >Number of Purchases</th>        <th class=\"col_heading level0 col3\" >Total Revenue</th>    </tr></thead><tbody>\n                <tr>\n                        <th id=\"T_78746aaa_9687_11eb_bfe3_a87eea5d3828level0_row0\" class=\"row_heading level0 row0\" >0</th>\n                        <td id=\"T_78746aaa_9687_11eb_bfe3_a87eea5d3828row0_col0\" class=\"data row0 col0\" >179</td>\n                        <td id=\"T_78746aaa_9687_11eb_bfe3_a87eea5d3828row0_col1\" class=\"data row0 col1\" >                3.05</td>\n                        <td id=\"T_78746aaa_9687_11eb_bfe3_a87eea5d3828row0_col2\" class=\"data row0 col2\" >780</td>\n                        <td id=\"T_78746aaa_9687_11eb_bfe3_a87eea5d3828row0_col3\" class=\"data row0 col3\" >$            2,379.77</td>\n            </tr>\n    </tbody></table>"
     },
     "metadata": {},
     "execution_count": 4
    }
   ],
   "source": [
    "# Unique item\n",
    "item = len(purchase_data.groupby(['Item ID']).count())\n",
    "# Avg Price\n",
    "avg_price = purchase_data['Price'].mean()\n",
    "avg_price\n",
    "# Number of Purchases\n",
    "no_purchase = len(purchase_data)\n",
    "no_purchase\n",
    "# Total Revenue\n",
    "Tot_rev = purchase_data['Price'].sum()\n",
    "Tot_rev\n",
    "summary_1 = pd.DataFrame({'Number of Unique Items' : [item], 'Average Price': [avg_price], 'Number of Purchases' : [no_purchase], 'Total Revenue' : [Tot_rev]})\n",
    "summary_1.head().style.format({\"Total Revenue\": \"${:20,.2f}\"})\\\n",
    "    .format({'Average Price' : \"{:20.2f}\"})\n"
   ]
  },
  {
   "cell_type": "markdown",
   "metadata": {},
   "source": [
    "## Gender Demographics"
   ]
  },
  {
   "cell_type": "markdown",
   "metadata": {},
   "source": [
    "* Percentage and Count of Male Players\n",
    "\n",
    "\n",
    "* Percentage and Count of Female Players\n",
    "\n",
    "\n",
    "* Percentage and Count of Other / Non-Disclosed\n",
    "\n",
    "\n"
   ]
  },
  {
   "cell_type": "code",
   "execution_count": 5,
   "metadata": {},
   "outputs": [
    {
     "output_type": "execute_result",
     "data": {
      "text/plain": [
       "<pandas.io.formats.style.Styler at 0x177244b4a90>"
      ],
      "text/html": "<style  type=\"text/css\" >\n</style><table id=\"T_7b28f1fd_9687_11eb_b7b7_a87eea5d3828\" ><thead>    <tr>        <th class=\"blank level0\" ></th>        <th class=\"col_heading level0 col0\" >Total Count</th>        <th class=\"col_heading level0 col1\" >Percentage of Players</th>    </tr></thead><tbody>\n                <tr>\n                        <th id=\"T_7b28f1fd_9687_11eb_b7b7_a87eea5d3828level0_row0\" class=\"row_heading level0 row0\" >Male</th>\n                        <td id=\"T_7b28f1fd_9687_11eb_b7b7_a87eea5d3828row0_col0\" class=\"data row0 col0\" >652</td>\n                        <td id=\"T_7b28f1fd_9687_11eb_b7b7_a87eea5d3828row0_col1\" class=\"data row0 col1\" >83.59%</td>\n            </tr>\n            <tr>\n                        <th id=\"T_7b28f1fd_9687_11eb_b7b7_a87eea5d3828level0_row1\" class=\"row_heading level0 row1\" >Female</th>\n                        <td id=\"T_7b28f1fd_9687_11eb_b7b7_a87eea5d3828row1_col0\" class=\"data row1 col0\" >113</td>\n                        <td id=\"T_7b28f1fd_9687_11eb_b7b7_a87eea5d3828row1_col1\" class=\"data row1 col1\" >14.49%</td>\n            </tr>\n            <tr>\n                        <th id=\"T_7b28f1fd_9687_11eb_b7b7_a87eea5d3828level0_row2\" class=\"row_heading level0 row2\" >Other / Non-Disclosed</th>\n                        <td id=\"T_7b28f1fd_9687_11eb_b7b7_a87eea5d3828row2_col0\" class=\"data row2 col0\" >15</td>\n                        <td id=\"T_7b28f1fd_9687_11eb_b7b7_a87eea5d3828row2_col1\" class=\"data row2 col1\" > 1.92%</td>\n            </tr>\n    </tbody></table>"
     },
     "metadata": {},
     "execution_count": 5
    }
   ],
   "source": [
    "# Gender Count\n",
    "no_gender_df = pd.DataFrame(purchase_data['Gender'].value_counts())\n",
    "no_gender_df\n",
    "# Total Gender\n",
    "total_gender = no_gender_df.sum()\n",
    "pct_gender = pd.DataFrame((no_gender_df / total_gender) * 100)\n",
    "pct_gender\n",
    "# Gender DF\n",
    "gender_df = no_gender_df.merge(pct_gender, left_index=True, right_index=True)\n",
    "gender_df = gender_df.rename(columns ={'Gender_x': 'Total Count', 'Gender_y': 'Percentage of Players'})\n",
    "gender_df.style.format({'Percentage of Players' : \"{:5.2f}%\"})"
   ]
  },
  {
   "cell_type": "markdown",
   "metadata": {},
   "source": [
    "\n",
    "## Purchasing Analysis (Gender)"
   ]
  },
  {
   "cell_type": "markdown",
   "metadata": {},
   "source": [
    "* Run basic calculations to obtain purchase count, avg. purchase price, avg. purchase total per person etc. by gender\n",
    "\n",
    "\n",
    "\n",
    "\n",
    "* Create a summary data frame to hold the results\n",
    "\n",
    "\n",
    "* Optional: give the displayed data cleaner formatting\n",
    "\n",
    "\n",
    "* Display the summary data frame"
   ]
  },
  {
   "cell_type": "code",
   "execution_count": 6,
   "metadata": {},
   "outputs": [
    {
     "output_type": "execute_result",
     "data": {
      "text/plain": [
       "<pandas.io.formats.style.Styler at 0x177276ef4f0>"
      ],
      "text/html": "<style  type=\"text/css\" >\n</style><table id=\"T_7d0dc325_9687_11eb_9151_a87eea5d3828\" ><thead>    <tr>        <th class=\"blank level0\" ></th>        <th class=\"col_heading level0 col0\" >Purchase Count</th>        <th class=\"col_heading level0 col1\" >Average Purchase</th>        <th class=\"col_heading level0 col2\" >Total Purchase Value</th>        <th class=\"col_heading level0 col3\" >Avg Total Purchase per Person</th>    </tr></thead><tbody>\n                <tr>\n                        <th id=\"T_7d0dc325_9687_11eb_9151_a87eea5d3828level0_row0\" class=\"row_heading level0 row0\" >Female</th>\n                        <td id=\"T_7d0dc325_9687_11eb_9151_a87eea5d3828row0_col0\" class=\"data row0 col0\" >113</td>\n                        <td id=\"T_7d0dc325_9687_11eb_9151_a87eea5d3828row0_col1\" class=\"data row0 col1\" >$      3.20</td>\n                        <td id=\"T_7d0dc325_9687_11eb_9151_a87eea5d3828row0_col2\" class=\"data row0 col2\" >$    361.94</td>\n                        <td id=\"T_7d0dc325_9687_11eb_9151_a87eea5d3828row0_col3\" class=\"data row0 col3\" >$      4.47</td>\n            </tr>\n            <tr>\n                        <th id=\"T_7d0dc325_9687_11eb_9151_a87eea5d3828level0_row1\" class=\"row_heading level0 row1\" >Male</th>\n                        <td id=\"T_7d0dc325_9687_11eb_9151_a87eea5d3828row1_col0\" class=\"data row1 col0\" >652</td>\n                        <td id=\"T_7d0dc325_9687_11eb_9151_a87eea5d3828row1_col1\" class=\"data row1 col1\" >$      3.02</td>\n                        <td id=\"T_7d0dc325_9687_11eb_9151_a87eea5d3828row1_col2\" class=\"data row1 col2\" >$   1967.64</td>\n                        <td id=\"T_7d0dc325_9687_11eb_9151_a87eea5d3828row1_col3\" class=\"data row1 col3\" >$      4.07</td>\n            </tr>\n            <tr>\n                        <th id=\"T_7d0dc325_9687_11eb_9151_a87eea5d3828level0_row2\" class=\"row_heading level0 row2\" >Other / Non-Disclosed</th>\n                        <td id=\"T_7d0dc325_9687_11eb_9151_a87eea5d3828row2_col0\" class=\"data row2 col0\" >15</td>\n                        <td id=\"T_7d0dc325_9687_11eb_9151_a87eea5d3828row2_col1\" class=\"data row2 col1\" >$      3.35</td>\n                        <td id=\"T_7d0dc325_9687_11eb_9151_a87eea5d3828row2_col2\" class=\"data row2 col2\" >$     50.19</td>\n                        <td id=\"T_7d0dc325_9687_11eb_9151_a87eea5d3828row2_col3\" class=\"data row2 col3\" >$      4.56</td>\n            </tr>\n    </tbody></table>"
     },
     "metadata": {},
     "execution_count": 6
    }
   ],
   "source": [
    "# Average Purchase Price\n",
    "gender_mean = purchase_data.groupby(['Gender']).mean()\n",
    "gender_avg_price = gender_mean['Price']\n",
    "\n",
    "# Sum Purchase Price\n",
    "gender_sum = purchase_data.groupby(['Gender']).sum()\n",
    "gender_sum_price = gender_sum['Price']\n",
    "\n",
    "\n",
    "# Total Purchase Per Person\n",
    "gender_ID_sum = purchase_data.groupby(['Gender', 'SN']).sum()\n",
    "# Female\n",
    "sum_female = gender_ID_sum.loc['Female','Price']\n",
    "avg_female = sum_female.sum()/len(sum_female)\n",
    "\n",
    "# Male\n",
    "sum_male = gender_ID_sum.loc['Male', 'Price']\n",
    "avg_male = sum_male.sum()/len(sum_male)\n",
    "\n",
    "# ND\n",
    "sum_ND = gender_ID_sum.loc['Other / Non-Disclosed', 'Price']\n",
    "avg_ND = sum_ND.sum()/len(sum_ND)\n",
    "\n",
    "# Create list of avg total purchase per person\n",
    "Avg_total_purchase_per_person = [avg_female, avg_male, avg_ND]\n",
    "\n",
    "# Create DataFrame for Summary\n",
    "summary_2 = pd.DataFrame({'Purchase Count': gender_df['Total Count'],'Average Purchase': gender_avg_price, 'Total Purchase Value': gender_sum_price, 'Avg Total Purchase per Person' : Avg_total_purchase_per_person })\n",
    "# Summary table with style formatting\n",
    "summary_2.style.format({'Average Purchase' : \"${:10.2f}\", 'Total Purchase Value' : \"${:10.2f}\", 'Avg Total Purchase per Person' : \"${:10.2f}\"})\n",
    "# gender_df['Total Count']"
   ]
  },
  {
   "cell_type": "markdown",
   "metadata": {},
   "source": [
    "## Age Demographics"
   ]
  },
  {
   "cell_type": "markdown",
   "metadata": {},
   "source": [
    "* Establish bins for ages\n",
    "\n",
    "\n",
    "* Categorize the existing players using the age bins. Hint: use pd.cut()\n",
    "\n",
    "\n",
    "* Calculate the numbers and percentages by age group\n",
    "\n",
    "\n",
    "* Create a summary data frame to hold the results\n",
    "\n",
    "\n",
    "* Optional: round the percentage column to two decimal points\n",
    "\n",
    "\n",
    "* Display Age Demographics Table\n"
   ]
  },
  {
   "cell_type": "code",
   "execution_count": 7,
   "metadata": {},
   "outputs": [
    {
     "output_type": "execute_result",
     "data": {
      "text/plain": [
       "<pandas.io.formats.style.Styler at 0x1772768f0a0>"
      ],
      "text/html": "<style  type=\"text/css\" >\n</style><table id=\"T_7f7ca20b_9687_11eb_9b49_a87eea5d3828\" ><thead>    <tr>        <th class=\"blank level0\" ></th>        <th class=\"col_heading level0 col0\" >Total Count</th>        <th class=\"col_heading level0 col1\" >Percentage of Players</th>    </tr>    <tr>        <th class=\"index_name level0\" >Age Group</th>        <th class=\"blank\" ></th>        <th class=\"blank\" ></th>    </tr></thead><tbody>\n                <tr>\n                        <th id=\"T_7f7ca20b_9687_11eb_9b49_a87eea5d3828level0_row0\" class=\"row_heading level0 row0\" ><10</th>\n                        <td id=\"T_7f7ca20b_9687_11eb_9b49_a87eea5d3828row0_col0\" class=\"data row0 col0\" >17</td>\n                        <td id=\"T_7f7ca20b_9687_11eb_9b49_a87eea5d3828row0_col1\" class=\"data row0 col1\" > 2.95%</td>\n            </tr>\n            <tr>\n                        <th id=\"T_7f7ca20b_9687_11eb_9b49_a87eea5d3828level0_row1\" class=\"row_heading level0 row1\" >10-14</th>\n                        <td id=\"T_7f7ca20b_9687_11eb_9b49_a87eea5d3828row1_col0\" class=\"data row1 col0\" >22</td>\n                        <td id=\"T_7f7ca20b_9687_11eb_9b49_a87eea5d3828row1_col1\" class=\"data row1 col1\" > 3.82%</td>\n            </tr>\n            <tr>\n                        <th id=\"T_7f7ca20b_9687_11eb_9b49_a87eea5d3828level0_row2\" class=\"row_heading level0 row2\" >15-19</th>\n                        <td id=\"T_7f7ca20b_9687_11eb_9b49_a87eea5d3828row2_col0\" class=\"data row2 col0\" >107</td>\n                        <td id=\"T_7f7ca20b_9687_11eb_9b49_a87eea5d3828row2_col1\" class=\"data row2 col1\" >18.58%</td>\n            </tr>\n            <tr>\n                        <th id=\"T_7f7ca20b_9687_11eb_9b49_a87eea5d3828level0_row3\" class=\"row_heading level0 row3\" >20-24</th>\n                        <td id=\"T_7f7ca20b_9687_11eb_9b49_a87eea5d3828row3_col0\" class=\"data row3 col0\" >258</td>\n                        <td id=\"T_7f7ca20b_9687_11eb_9b49_a87eea5d3828row3_col1\" class=\"data row3 col1\" >44.79%</td>\n            </tr>\n            <tr>\n                        <th id=\"T_7f7ca20b_9687_11eb_9b49_a87eea5d3828level0_row4\" class=\"row_heading level0 row4\" >25-29</th>\n                        <td id=\"T_7f7ca20b_9687_11eb_9b49_a87eea5d3828row4_col0\" class=\"data row4 col0\" >77</td>\n                        <td id=\"T_7f7ca20b_9687_11eb_9b49_a87eea5d3828row4_col1\" class=\"data row4 col1\" >13.37%</td>\n            </tr>\n            <tr>\n                        <th id=\"T_7f7ca20b_9687_11eb_9b49_a87eea5d3828level0_row5\" class=\"row_heading level0 row5\" >30-34</th>\n                        <td id=\"T_7f7ca20b_9687_11eb_9b49_a87eea5d3828row5_col0\" class=\"data row5 col0\" >52</td>\n                        <td id=\"T_7f7ca20b_9687_11eb_9b49_a87eea5d3828row5_col1\" class=\"data row5 col1\" > 9.03%</td>\n            </tr>\n            <tr>\n                        <th id=\"T_7f7ca20b_9687_11eb_9b49_a87eea5d3828level0_row6\" class=\"row_heading level0 row6\" >35-39</th>\n                        <td id=\"T_7f7ca20b_9687_11eb_9b49_a87eea5d3828row6_col0\" class=\"data row6 col0\" >31</td>\n                        <td id=\"T_7f7ca20b_9687_11eb_9b49_a87eea5d3828row6_col1\" class=\"data row6 col1\" > 5.38%</td>\n            </tr>\n            <tr>\n                        <th id=\"T_7f7ca20b_9687_11eb_9b49_a87eea5d3828level0_row7\" class=\"row_heading level0 row7\" >40+</th>\n                        <td id=\"T_7f7ca20b_9687_11eb_9b49_a87eea5d3828row7_col0\" class=\"data row7 col0\" >12</td>\n                        <td id=\"T_7f7ca20b_9687_11eb_9b49_a87eea5d3828row7_col1\" class=\"data row7 col1\" > 2.08%</td>\n            </tr>\n    </tbody></table>"
     },
     "metadata": {},
     "execution_count": 7
    }
   ],
   "source": [
    "# Groupby Player\n",
    "grouped_player = purchase_data.groupby(['SN'])\n",
    "grouped_player_df = pd.DataFrame(grouped_player['Age'].value_counts())\n",
    "\n",
    "# Count the mean\n",
    "\n",
    "\n",
    "\n",
    "grouped_player_df = grouped_player_df.rename(columns={\"Age\": \"Count Purchase\"})\n",
    "grouped_player_df = grouped_player_df.reset_index()\n",
    "grouped_player_df\n",
    "\n",
    "# Create the bins in which Data will be held\n",
    "bins = [0, 9, 14, 19, 24, 29, 34, 39, 49]\n",
    "# Label for bins\n",
    "label_group = ['<10', '10-14', '15-19', '20-24', '25-29', '30-34', '35-39', '40+']\n",
    "# Create New Data Frame for age group\n",
    "grouped_player_df['Age Group'] = pd.cut(grouped_player_df['Age'], bins, labels= label_group, include_lowest=True)\n",
    "# total_count_age_grp = grouped_player_df['Age Group'].value_counts()\n",
    "\n",
    "# age_demog_df = pd.DataFrame({})\n",
    "total_count_age_grp = grouped_player_df.groupby('Age Group').count()\n",
    "total_count_age_grp = total_count_age_grp.reset_index()\n",
    "total_count_age_grp = total_count_age_grp.set_index('Age Group')\n",
    "total_count_age_grp.rename(columns = {'Count Purchase' : 'Total Count'}, inplace = True)\n",
    "total_count_age_grp['Percentage of Players'] = (total_count_age_grp['Total Count'] / total_count_age_grp['Total Count'].sum()) * 100\n",
    "total_count_age_grp = total_count_age_grp.drop(['SN', 'Age'], axis = 1)\n",
    "total_count_age_grp.style.format({'Percentage of Players': \"{:5.2f}%\"})\n"
   ]
  },
  {
   "cell_type": "markdown",
   "metadata": {},
   "source": [
    "## Purchasing Analysis (Age)"
   ]
  },
  {
   "cell_type": "markdown",
   "metadata": {},
   "source": [
    "* Bin the purchase_data data frame by age\n",
    "\n",
    "\n",
    "* Run basic calculations to obtain purchase count, avg. purchase price, avg. purchase total per person etc. in the table below\n",
    "\n",
    "\n",
    "* Create a summary data frame to hold the results\n",
    "\n",
    "\n",
    "* Optional: give the displayed data cleaner formatting\n",
    "\n",
    "\n",
    "* Display the summary data frame"
   ]
  },
  {
   "cell_type": "code",
   "execution_count": 9,
   "metadata": {},
   "outputs": [
    {
     "output_type": "execute_result",
     "data": {
      "text/plain": [
       "<pandas.io.formats.style.Styler at 0x1772656d700>"
      ],
      "text/html": "<style  type=\"text/css\" >\n</style><table id=\"T_d6e9c6a7_9687_11eb_ac00_a87eea5d3828\" ><thead>    <tr>        <th class=\"blank level0\" ></th>        <th class=\"col_heading level0 col0\" >Purchase Count</th>        <th class=\"col_heading level0 col1\" >Avg Purchase</th>        <th class=\"col_heading level0 col2\" >Total Purchase Value</th>        <th class=\"col_heading level0 col3\" >Avg Total Purchase per Person</th>    </tr>    <tr>        <th class=\"index_name level0\" >Age Group</th>        <th class=\"blank\" ></th>        <th class=\"blank\" ></th>        <th class=\"blank\" ></th>        <th class=\"blank\" ></th>    </tr></thead><tbody>\n                <tr>\n                        <th id=\"T_d6e9c6a7_9687_11eb_ac00_a87eea5d3828level0_row0\" class=\"row_heading level0 row0\" ><10</th>\n                        <td id=\"T_d6e9c6a7_9687_11eb_ac00_a87eea5d3828row0_col0\" class=\"data row0 col0\" >23</td>\n                        <td id=\"T_d6e9c6a7_9687_11eb_ac00_a87eea5d3828row0_col1\" class=\"data row0 col1\" >$      3.35</td>\n                        <td id=\"T_d6e9c6a7_9687_11eb_ac00_a87eea5d3828row0_col2\" class=\"data row0 col2\" >$     77.13</td>\n                        <td id=\"T_d6e9c6a7_9687_11eb_ac00_a87eea5d3828row0_col3\" class=\"data row0 col3\" >$      4.54</td>\n            </tr>\n            <tr>\n                        <th id=\"T_d6e9c6a7_9687_11eb_ac00_a87eea5d3828level0_row1\" class=\"row_heading level0 row1\" >10-14</th>\n                        <td id=\"T_d6e9c6a7_9687_11eb_ac00_a87eea5d3828row1_col0\" class=\"data row1 col0\" >28</td>\n                        <td id=\"T_d6e9c6a7_9687_11eb_ac00_a87eea5d3828row1_col1\" class=\"data row1 col1\" >$      2.96</td>\n                        <td id=\"T_d6e9c6a7_9687_11eb_ac00_a87eea5d3828row1_col2\" class=\"data row1 col2\" >$     82.78</td>\n                        <td id=\"T_d6e9c6a7_9687_11eb_ac00_a87eea5d3828row1_col3\" class=\"data row1 col3\" >$      3.76</td>\n            </tr>\n            <tr>\n                        <th id=\"T_d6e9c6a7_9687_11eb_ac00_a87eea5d3828level0_row2\" class=\"row_heading level0 row2\" >15-19</th>\n                        <td id=\"T_d6e9c6a7_9687_11eb_ac00_a87eea5d3828row2_col0\" class=\"data row2 col0\" >136</td>\n                        <td id=\"T_d6e9c6a7_9687_11eb_ac00_a87eea5d3828row2_col1\" class=\"data row2 col1\" >$      3.04</td>\n                        <td id=\"T_d6e9c6a7_9687_11eb_ac00_a87eea5d3828row2_col2\" class=\"data row2 col2\" >$    412.89</td>\n                        <td id=\"T_d6e9c6a7_9687_11eb_ac00_a87eea5d3828row2_col3\" class=\"data row2 col3\" >$      3.86</td>\n            </tr>\n            <tr>\n                        <th id=\"T_d6e9c6a7_9687_11eb_ac00_a87eea5d3828level0_row3\" class=\"row_heading level0 row3\" >20-24</th>\n                        <td id=\"T_d6e9c6a7_9687_11eb_ac00_a87eea5d3828row3_col0\" class=\"data row3 col0\" >365</td>\n                        <td id=\"T_d6e9c6a7_9687_11eb_ac00_a87eea5d3828row3_col1\" class=\"data row3 col1\" >$      3.05</td>\n                        <td id=\"T_d6e9c6a7_9687_11eb_ac00_a87eea5d3828row3_col2\" class=\"data row3 col2\" >$   1114.06</td>\n                        <td id=\"T_d6e9c6a7_9687_11eb_ac00_a87eea5d3828row3_col3\" class=\"data row3 col3\" >$      4.32</td>\n            </tr>\n            <tr>\n                        <th id=\"T_d6e9c6a7_9687_11eb_ac00_a87eea5d3828level0_row4\" class=\"row_heading level0 row4\" >25-29</th>\n                        <td id=\"T_d6e9c6a7_9687_11eb_ac00_a87eea5d3828row4_col0\" class=\"data row4 col0\" >101</td>\n                        <td id=\"T_d6e9c6a7_9687_11eb_ac00_a87eea5d3828row4_col1\" class=\"data row4 col1\" >$      2.90</td>\n                        <td id=\"T_d6e9c6a7_9687_11eb_ac00_a87eea5d3828row4_col2\" class=\"data row4 col2\" >$    293.00</td>\n                        <td id=\"T_d6e9c6a7_9687_11eb_ac00_a87eea5d3828row4_col3\" class=\"data row4 col3\" >$      3.81</td>\n            </tr>\n            <tr>\n                        <th id=\"T_d6e9c6a7_9687_11eb_ac00_a87eea5d3828level0_row5\" class=\"row_heading level0 row5\" >30-34</th>\n                        <td id=\"T_d6e9c6a7_9687_11eb_ac00_a87eea5d3828row5_col0\" class=\"data row5 col0\" >73</td>\n                        <td id=\"T_d6e9c6a7_9687_11eb_ac00_a87eea5d3828row5_col1\" class=\"data row5 col1\" >$      2.93</td>\n                        <td id=\"T_d6e9c6a7_9687_11eb_ac00_a87eea5d3828row5_col2\" class=\"data row5 col2\" >$    214.00</td>\n                        <td id=\"T_d6e9c6a7_9687_11eb_ac00_a87eea5d3828row5_col3\" class=\"data row5 col3\" >$      4.12</td>\n            </tr>\n            <tr>\n                        <th id=\"T_d6e9c6a7_9687_11eb_ac00_a87eea5d3828level0_row6\" class=\"row_heading level0 row6\" >35-39</th>\n                        <td id=\"T_d6e9c6a7_9687_11eb_ac00_a87eea5d3828row6_col0\" class=\"data row6 col0\" >41</td>\n                        <td id=\"T_d6e9c6a7_9687_11eb_ac00_a87eea5d3828row6_col1\" class=\"data row6 col1\" >$      3.60</td>\n                        <td id=\"T_d6e9c6a7_9687_11eb_ac00_a87eea5d3828row6_col2\" class=\"data row6 col2\" >$    147.67</td>\n                        <td id=\"T_d6e9c6a7_9687_11eb_ac00_a87eea5d3828row6_col3\" class=\"data row6 col3\" >$      4.76</td>\n            </tr>\n            <tr>\n                        <th id=\"T_d6e9c6a7_9687_11eb_ac00_a87eea5d3828level0_row7\" class=\"row_heading level0 row7\" >40+</th>\n                        <td id=\"T_d6e9c6a7_9687_11eb_ac00_a87eea5d3828row7_col0\" class=\"data row7 col0\" >13</td>\n                        <td id=\"T_d6e9c6a7_9687_11eb_ac00_a87eea5d3828row7_col1\" class=\"data row7 col1\" >$      2.94</td>\n                        <td id=\"T_d6e9c6a7_9687_11eb_ac00_a87eea5d3828row7_col2\" class=\"data row7 col2\" >$     38.24</td>\n                        <td id=\"T_d6e9c6a7_9687_11eb_ac00_a87eea5d3828row7_col3\" class=\"data row7 col3\" >$      3.19</td>\n            </tr>\n    </tbody></table>"
     },
     "metadata": {},
     "execution_count": 9
    }
   ],
   "source": [
    "# Total Purchase Per Person\n",
    "Age_SN_sum = purchase_data.groupby(['Age', 'SN']).sum()\n",
    "# Count\n",
    "Age_SN_count = purchase_data.groupby(['Age', 'SN']).count()\n",
    "count_player = Age_SN_count.loc[:,'Price']\n",
    "sum_player = Age_SN_sum.loc[:,'Price']\n",
    "# avg_player = sum_player.sum()/count_player\n",
    "avg_SN = sum_player/count_player\n",
    "\n",
    "# sum_player\n",
    "df = pd.DataFrame({'Total_Price': sum_player})\n",
    "df.reset_index(inplace = True)\n",
    "\n",
    "\n",
    "# Create the bins in which Data will be held\n",
    "bins = [0, 9, 14, 19, 24, 29, 34, 39, 55]\n",
    "# Label for bins\n",
    "label_group = ['<10', '10-14', '15-19', '20-24', '25-29', '30-34', '35-39', '40+']\n",
    "# Create New Data Frame for age group\n",
    "df['Age Group'] = pd.cut(df['Age'], bins, labels= label_group, include_lowest=False)\n",
    "\n",
    "\n",
    "# Count The Purchase ID\n",
    "# Groupby Purchase ID\n",
    "ff = purchase_data.groupby('Purchase ID').count()\n",
    "ID_df = pd.DataFrame({'Age': purchase_data['Age'], 'Purchase Count': ff['Age']})\n",
    "ID_df['Age Group'] = pd.cut(ID_df['Age'], bins, labels= label_group, include_lowest=False)\n",
    "# Purchase Count\n",
    "Count_purchase2 = ID_df.groupby('Age Group').count()\n",
    "# Count_purchase2\n",
    "\n",
    "\n",
    "# Total Purchase\n",
    "Total_purchase = df.groupby('Age Group').sum()\n",
    "# Avg_Purchase\n",
    "Avg_purchase = Total_purchase['Total_Price'] / Count_purchase2['Purchase Count']\n",
    "# Avg Purchase per person\n",
    "Avg_purchase_person = df.groupby('Age Group').mean()\n",
    "\n",
    "summary_3 = pd.DataFrame({'Purchase Count': Count_purchase2['Purchase Count'], 'Avg Purchase': Avg_purchase,'Total Purchase Value': Total_purchase['Total_Price'], 'Avg Total Purchase per Person': Avg_purchase_person['Total_Price'], })\n",
    "summary_3.style.format({'Avg Purchase': \"${:10.2f}\", 'Total Purchase Value': \"${:10.2f}\", 'Avg Total Purchase per Person': \"${:10.2f}\"})\n",
    "\n"
   ]
  },
  {
   "cell_type": "markdown",
   "metadata": {},
   "source": [
    "## Top Spenders"
   ]
  },
  {
   "cell_type": "markdown",
   "metadata": {},
   "source": [
    "* Run basic calculations to obtain the results in the table below\n",
    "\n",
    "\n",
    "* Create a summary data frame to hold the results\n",
    "\n",
    "\n",
    "* Sort the total purchase value column in descending order\n",
    "\n",
    "\n",
    "* Optional: give the displayed data cleaner formatting\n",
    "\n",
    "\n",
    "* Display a preview of the summary data frame\n",
    "\n"
   ]
  },
  {
   "cell_type": "code",
   "execution_count": 42,
   "metadata": {},
   "outputs": [
    {
     "output_type": "execute_result",
     "data": {
      "text/plain": [
       "<pandas.io.formats.style.Styler at 0x1772bc17b20>"
      ],
      "text/html": "<style  type=\"text/css\" >\n</style><table id=\"T_aaf5edac_96a2_11eb_a890_a87eea5d3828\" ><thead>    <tr>        <th class=\"blank level0\" ></th>        <th class=\"col_heading level0 col0\" >Purchase Count</th>        <th class=\"col_heading level0 col1\" >Average Purchase Price</th>        <th class=\"col_heading level0 col2\" >Total Purchase Value</th>    </tr>    <tr>        <th class=\"index_name level0\" >SN</th>        <th class=\"blank\" ></th>        <th class=\"blank\" ></th>        <th class=\"blank\" ></th>    </tr></thead><tbody>\n                <tr>\n                        <th id=\"T_aaf5edac_96a2_11eb_a890_a87eea5d3828level0_row0\" class=\"row_heading level0 row0\" >Lisosia93</th>\n                        <td id=\"T_aaf5edac_96a2_11eb_a890_a87eea5d3828row0_col0\" class=\"data row0 col0\" >5</td>\n                        <td id=\"T_aaf5edac_96a2_11eb_a890_a87eea5d3828row0_col1\" class=\"data row0 col1\" >$      3.79</td>\n                        <td id=\"T_aaf5edac_96a2_11eb_a890_a87eea5d3828row0_col2\" class=\"data row0 col2\" >$     18.96</td>\n            </tr>\n            <tr>\n                        <th id=\"T_aaf5edac_96a2_11eb_a890_a87eea5d3828level0_row1\" class=\"row_heading level0 row1\" >Idastidru52</th>\n                        <td id=\"T_aaf5edac_96a2_11eb_a890_a87eea5d3828row1_col0\" class=\"data row1 col0\" >4</td>\n                        <td id=\"T_aaf5edac_96a2_11eb_a890_a87eea5d3828row1_col1\" class=\"data row1 col1\" >$      3.86</td>\n                        <td id=\"T_aaf5edac_96a2_11eb_a890_a87eea5d3828row1_col2\" class=\"data row1 col2\" >$     15.45</td>\n            </tr>\n            <tr>\n                        <th id=\"T_aaf5edac_96a2_11eb_a890_a87eea5d3828level0_row2\" class=\"row_heading level0 row2\" >Chamjask73</th>\n                        <td id=\"T_aaf5edac_96a2_11eb_a890_a87eea5d3828row2_col0\" class=\"data row2 col0\" >3</td>\n                        <td id=\"T_aaf5edac_96a2_11eb_a890_a87eea5d3828row2_col1\" class=\"data row2 col1\" >$      4.61</td>\n                        <td id=\"T_aaf5edac_96a2_11eb_a890_a87eea5d3828row2_col2\" class=\"data row2 col2\" >$     13.83</td>\n            </tr>\n            <tr>\n                        <th id=\"T_aaf5edac_96a2_11eb_a890_a87eea5d3828level0_row3\" class=\"row_heading level0 row3\" >Iral74</th>\n                        <td id=\"T_aaf5edac_96a2_11eb_a890_a87eea5d3828row3_col0\" class=\"data row3 col0\" >4</td>\n                        <td id=\"T_aaf5edac_96a2_11eb_a890_a87eea5d3828row3_col1\" class=\"data row3 col1\" >$      3.40</td>\n                        <td id=\"T_aaf5edac_96a2_11eb_a890_a87eea5d3828row3_col2\" class=\"data row3 col2\" >$     13.62</td>\n            </tr>\n            <tr>\n                        <th id=\"T_aaf5edac_96a2_11eb_a890_a87eea5d3828level0_row4\" class=\"row_heading level0 row4\" >Iskadarya95</th>\n                        <td id=\"T_aaf5edac_96a2_11eb_a890_a87eea5d3828row4_col0\" class=\"data row4 col0\" >3</td>\n                        <td id=\"T_aaf5edac_96a2_11eb_a890_a87eea5d3828row4_col1\" class=\"data row4 col1\" >$      4.37</td>\n                        <td id=\"T_aaf5edac_96a2_11eb_a890_a87eea5d3828row4_col2\" class=\"data row4 col2\" >$     13.10</td>\n            </tr>\n    </tbody></table>"
     },
     "metadata": {},
     "execution_count": 42
    }
   ],
   "source": [
    "SN_sum = purchase_data.groupby('SN').sum()\n",
    "\n",
    "# Count Grouped SN\n",
    "SN_count = purchase_data.groupby('SN').count()\n",
    "\n",
    "# Avg Grouped SN\n",
    "SN_avg = SN_sum['Price'] / SN_count['Price']\n",
    "SN_avg\n",
    "\n",
    "Spender_df = pd.DataFrame({'Purchase Count' : SN_count['Price'], 'Average Purchase Price' : SN_avg,'Total Purchase Value' : SN_sum['Price']})\n",
    "\n",
    "Spender_df.sort_values(by = 'Total Purchase Value', ascending = False, inplace = True)\n",
    "\n",
    "Spender_df.head().style.format({'Average Purchase Price' : \"${:10.2f}\", 'Total Purchase Value' : \"${:10.2f}\" })\n",
    "\n"
   ]
  },
  {
   "cell_type": "markdown",
   "metadata": {},
   "source": [
    "## Most Popular Items"
   ]
  },
  {
   "cell_type": "markdown",
   "metadata": {},
   "source": [
    "* Retrieve the Item ID, Item Name, and Item Price columns\n",
    "\n",
    "\n",
    "* Group by Item ID and Item Name. Perform calculations to obtain purchase count, item price, and total purchase value\n",
    "\n",
    "\n",
    "* Create a summary data frame to hold the results\n",
    "\n",
    "\n",
    "* Sort the purchase count column in descending order\n",
    "\n",
    "\n",
    "* Optional: give the displayed data cleaner formatting\n",
    "\n",
    "\n",
    "* Display a preview of the summary data frame\n",
    "\n"
   ]
  },
  {
   "cell_type": "code",
   "execution_count": 82,
   "metadata": {},
   "outputs": [
    {
     "output_type": "execute_result",
     "data": {
      "text/plain": [
       "<pandas.io.formats.style.Styler at 0x1772bdf74c0>"
      ],
      "text/html": "<style  type=\"text/css\" >\n</style><table id=\"T_9da94dae_96ab_11eb_8f8b_a87eea5d3828\" ><thead>    <tr>        <th class=\"blank\" ></th>        <th class=\"blank level0\" ></th>        <th class=\"col_heading level0 col0\" >Purchase Count</th>        <th class=\"col_heading level0 col1\" >Item Price</th>        <th class=\"col_heading level0 col2\" >Total Purchase Value</th>    </tr>    <tr>        <th class=\"index_name level0\" >Item ID</th>        <th class=\"index_name level1\" >Item Name</th>        <th class=\"blank\" ></th>        <th class=\"blank\" ></th>        <th class=\"blank\" ></th>    </tr></thead><tbody>\n                <tr>\n                        <th id=\"T_9da94dae_96ab_11eb_8f8b_a87eea5d3828level0_row0\" class=\"row_heading level0 row0\" >92</th>\n                        <th id=\"T_9da94dae_96ab_11eb_8f8b_a87eea5d3828level1_row0\" class=\"row_heading level1 row0\" >Final Critic</th>\n                        <td id=\"T_9da94dae_96ab_11eb_8f8b_a87eea5d3828row0_col0\" class=\"data row0 col0\" >13</td>\n                        <td id=\"T_9da94dae_96ab_11eb_8f8b_a87eea5d3828row0_col1\" class=\"data row0 col1\" >$      4.61</td>\n                        <td id=\"T_9da94dae_96ab_11eb_8f8b_a87eea5d3828row0_col2\" class=\"data row0 col2\" >$     59.99</td>\n            </tr>\n            <tr>\n                        <th id=\"T_9da94dae_96ab_11eb_8f8b_a87eea5d3828level0_row1\" class=\"row_heading level0 row1\" >178</th>\n                        <th id=\"T_9da94dae_96ab_11eb_8f8b_a87eea5d3828level1_row1\" class=\"row_heading level1 row1\" >Oathbreaker, Last Hope of the Breaking Storm</th>\n                        <td id=\"T_9da94dae_96ab_11eb_8f8b_a87eea5d3828row1_col0\" class=\"data row1 col0\" >12</td>\n                        <td id=\"T_9da94dae_96ab_11eb_8f8b_a87eea5d3828row1_col1\" class=\"data row1 col1\" >$      4.23</td>\n                        <td id=\"T_9da94dae_96ab_11eb_8f8b_a87eea5d3828row1_col2\" class=\"data row1 col2\" >$     50.76</td>\n            </tr>\n            <tr>\n                        <th id=\"T_9da94dae_96ab_11eb_8f8b_a87eea5d3828level0_row2\" class=\"row_heading level0 row2\" >145</th>\n                        <th id=\"T_9da94dae_96ab_11eb_8f8b_a87eea5d3828level1_row2\" class=\"row_heading level1 row2\" >Fiery Glass Crusader</th>\n                        <td id=\"T_9da94dae_96ab_11eb_8f8b_a87eea5d3828row2_col0\" class=\"data row2 col0\" >9</td>\n                        <td id=\"T_9da94dae_96ab_11eb_8f8b_a87eea5d3828row2_col1\" class=\"data row2 col1\" >$      4.58</td>\n                        <td id=\"T_9da94dae_96ab_11eb_8f8b_a87eea5d3828row2_col2\" class=\"data row2 col2\" >$     41.22</td>\n            </tr>\n            <tr>\n                        <th id=\"T_9da94dae_96ab_11eb_8f8b_a87eea5d3828level0_row3\" class=\"row_heading level0 row3\" >132</th>\n                        <th id=\"T_9da94dae_96ab_11eb_8f8b_a87eea5d3828level1_row3\" class=\"row_heading level1 row3\" >Persuasion</th>\n                        <td id=\"T_9da94dae_96ab_11eb_8f8b_a87eea5d3828row3_col0\" class=\"data row3 col0\" >9</td>\n                        <td id=\"T_9da94dae_96ab_11eb_8f8b_a87eea5d3828row3_col1\" class=\"data row3 col1\" >$      3.22</td>\n                        <td id=\"T_9da94dae_96ab_11eb_8f8b_a87eea5d3828row3_col2\" class=\"data row3 col2\" >$     28.99</td>\n            </tr>\n            <tr>\n                        <th id=\"T_9da94dae_96ab_11eb_8f8b_a87eea5d3828level0_row4\" class=\"row_heading level0 row4\" >108</th>\n                        <th id=\"T_9da94dae_96ab_11eb_8f8b_a87eea5d3828level1_row4\" class=\"row_heading level1 row4\" >Extraction, Quickblade Of Trembling Hands</th>\n                        <td id=\"T_9da94dae_96ab_11eb_8f8b_a87eea5d3828row4_col0\" class=\"data row4 col0\" >9</td>\n                        <td id=\"T_9da94dae_96ab_11eb_8f8b_a87eea5d3828row4_col1\" class=\"data row4 col1\" >$      3.53</td>\n                        <td id=\"T_9da94dae_96ab_11eb_8f8b_a87eea5d3828row4_col2\" class=\"data row4 col2\" >$     31.77</td>\n            </tr>\n    </tbody></table>"
     },
     "metadata": {},
     "execution_count": 82
    }
   ],
   "source": [
    "# Create total purchase, number of item bought\n",
    "popular_sum = purchase_data.groupby(['Item ID', 'Item Name']).sum()\n",
    "popular_count = purchase_data.groupby(['Item ID', 'Item Name']).count()\n",
    "popular_price = popular_sum['Price'] / popular_count['Price']\n",
    "df = pd.DataFrame({'Purchase Count' : popular_count['Price'], 'Item Price' : popular_price, 'Total Purchase Value': popular_sum['Price']})\n",
    "df.sort_values(by = 'Purchase Count', ascending = False, inplace = True)\n",
    "df.head().style.format({'Item Price' : \"${:10.2f}\", 'Total Purchase Value': \"${:10.2f}\"})\n"
   ]
  },
  {
   "cell_type": "markdown",
   "metadata": {},
   "source": [
    "## Most Profitable Items"
   ]
  },
  {
   "cell_type": "markdown",
   "metadata": {},
   "source": [
    "* Sort the above table by total purchase value in descending order\n",
    "\n",
    "\n",
    "* Optional: give the displayed data cleaner formatting\n",
    "\n",
    "\n",
    "* Display a preview of the data frame\n",
    "\n"
   ]
  },
  {
   "cell_type": "code",
   "execution_count": 83,
   "metadata": {},
   "outputs": [
    {
     "output_type": "execute_result",
     "data": {
      "text/plain": [
       "<pandas.io.formats.style.Styler at 0x1772bda66a0>"
      ],
      "text/html": "<style  type=\"text/css\" >\n</style><table id=\"T_d0ea2233_96ab_11eb_9cbb_a87eea5d3828\" ><thead>    <tr>        <th class=\"blank\" ></th>        <th class=\"blank level0\" ></th>        <th class=\"col_heading level0 col0\" >Purchase Count</th>        <th class=\"col_heading level0 col1\" >Item Price</th>        <th class=\"col_heading level0 col2\" >Total Purchase Value</th>    </tr>    <tr>        <th class=\"index_name level0\" >Item ID</th>        <th class=\"index_name level1\" >Item Name</th>        <th class=\"blank\" ></th>        <th class=\"blank\" ></th>        <th class=\"blank\" ></th>    </tr></thead><tbody>\n                <tr>\n                        <th id=\"T_d0ea2233_96ab_11eb_9cbb_a87eea5d3828level0_row0\" class=\"row_heading level0 row0\" >92</th>\n                        <th id=\"T_d0ea2233_96ab_11eb_9cbb_a87eea5d3828level1_row0\" class=\"row_heading level1 row0\" >Final Critic</th>\n                        <td id=\"T_d0ea2233_96ab_11eb_9cbb_a87eea5d3828row0_col0\" class=\"data row0 col0\" >13</td>\n                        <td id=\"T_d0ea2233_96ab_11eb_9cbb_a87eea5d3828row0_col1\" class=\"data row0 col1\" >$      4.61</td>\n                        <td id=\"T_d0ea2233_96ab_11eb_9cbb_a87eea5d3828row0_col2\" class=\"data row0 col2\" >$     59.99</td>\n            </tr>\n            <tr>\n                        <th id=\"T_d0ea2233_96ab_11eb_9cbb_a87eea5d3828level0_row1\" class=\"row_heading level0 row1\" >178</th>\n                        <th id=\"T_d0ea2233_96ab_11eb_9cbb_a87eea5d3828level1_row1\" class=\"row_heading level1 row1\" >Oathbreaker, Last Hope of the Breaking Storm</th>\n                        <td id=\"T_d0ea2233_96ab_11eb_9cbb_a87eea5d3828row1_col0\" class=\"data row1 col0\" >12</td>\n                        <td id=\"T_d0ea2233_96ab_11eb_9cbb_a87eea5d3828row1_col1\" class=\"data row1 col1\" >$      4.23</td>\n                        <td id=\"T_d0ea2233_96ab_11eb_9cbb_a87eea5d3828row1_col2\" class=\"data row1 col2\" >$     50.76</td>\n            </tr>\n            <tr>\n                        <th id=\"T_d0ea2233_96ab_11eb_9cbb_a87eea5d3828level0_row2\" class=\"row_heading level0 row2\" >82</th>\n                        <th id=\"T_d0ea2233_96ab_11eb_9cbb_a87eea5d3828level1_row2\" class=\"row_heading level1 row2\" >Nirvana</th>\n                        <td id=\"T_d0ea2233_96ab_11eb_9cbb_a87eea5d3828row2_col0\" class=\"data row2 col0\" >9</td>\n                        <td id=\"T_d0ea2233_96ab_11eb_9cbb_a87eea5d3828row2_col1\" class=\"data row2 col1\" >$      4.90</td>\n                        <td id=\"T_d0ea2233_96ab_11eb_9cbb_a87eea5d3828row2_col2\" class=\"data row2 col2\" >$     44.10</td>\n            </tr>\n            <tr>\n                        <th id=\"T_d0ea2233_96ab_11eb_9cbb_a87eea5d3828level0_row3\" class=\"row_heading level0 row3\" >145</th>\n                        <th id=\"T_d0ea2233_96ab_11eb_9cbb_a87eea5d3828level1_row3\" class=\"row_heading level1 row3\" >Fiery Glass Crusader</th>\n                        <td id=\"T_d0ea2233_96ab_11eb_9cbb_a87eea5d3828row3_col0\" class=\"data row3 col0\" >9</td>\n                        <td id=\"T_d0ea2233_96ab_11eb_9cbb_a87eea5d3828row3_col1\" class=\"data row3 col1\" >$      4.58</td>\n                        <td id=\"T_d0ea2233_96ab_11eb_9cbb_a87eea5d3828row3_col2\" class=\"data row3 col2\" >$     41.22</td>\n            </tr>\n            <tr>\n                        <th id=\"T_d0ea2233_96ab_11eb_9cbb_a87eea5d3828level0_row4\" class=\"row_heading level0 row4\" >103</th>\n                        <th id=\"T_d0ea2233_96ab_11eb_9cbb_a87eea5d3828level1_row4\" class=\"row_heading level1 row4\" >Singed Scalpel</th>\n                        <td id=\"T_d0ea2233_96ab_11eb_9cbb_a87eea5d3828row4_col0\" class=\"data row4 col0\" >8</td>\n                        <td id=\"T_d0ea2233_96ab_11eb_9cbb_a87eea5d3828row4_col1\" class=\"data row4 col1\" >$      4.35</td>\n                        <td id=\"T_d0ea2233_96ab_11eb_9cbb_a87eea5d3828row4_col2\" class=\"data row4 col2\" >$     34.80</td>\n            </tr>\n    </tbody></table>"
     },
     "metadata": {},
     "execution_count": 83
    }
   ],
   "source": [
    "df.sort_values(by = 'Total Purchase Value', ascending = False, inplace = True)\n",
    "df.head().style.format({'Item Price' : \"${:10.2f}\", 'Total Purchase Value': \"${:10.2f}\"})"
   ]
  },
  {
   "source": [
    "## Summary"
   ],
   "cell_type": "markdown",
   "metadata": {}
  },
  {
   "source": [
    "There are three obvious Trend Observed:\n",
    "* Most of the buyer is Male\n",
    "* the most buyer is in age group of 20-24 yr-old.\n",
    "* there's not much different on the average spent between gender\n",
    "\n"
   ],
   "cell_type": "markdown",
   "metadata": {}
  },
  {
   "cell_type": "code",
   "execution_count": null,
   "metadata": {},
   "outputs": [],
   "source": []
  }
 ],
 "metadata": {
  "anaconda-cloud": {},
  "kernel_info": {
   "name": "python3"
  },
  "kernelspec": {
   "display_name": "Python 3",
   "language": "python",
   "name": "python3"
  },
  "language_info": {
   "codemirror_mode": {
    "name": "ipython",
    "version": 3
   },
   "file_extension": ".py",
   "mimetype": "text/x-python",
   "name": "python",
   "nbconvert_exporter": "python",
   "pygments_lexer": "ipython3",
   "version": "3.8.3-final"
  },
  "latex_envs": {
   "LaTeX_envs_menu_present": true,
   "autoclose": false,
   "autocomplete": true,
   "bibliofile": "biblio.bib",
   "cite_by": "apalike",
   "current_citInitial": 1,
   "eqLabelWithNumbers": true,
   "eqNumInitial": 1,
   "hotkeys": {
    "equation": "Ctrl-E",
    "itemize": "Ctrl-I"
   },
   "labels_anchors": false,
   "latex_user_defs": false,
   "report_style_numbering": false,
   "user_envs_cfg": false
  },
  "nteract": {
   "version": "0.2.0"
  }
 },
 "nbformat": 4,
 "nbformat_minor": 2
}